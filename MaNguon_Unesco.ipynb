{
  "nbformat": 4,
  "nbformat_minor": 0,
  "metadata": {
    "colab": {
      "provenance": [],
      "authorship_tag": "ABX9TyPRidfqmr0/ow2TIYNAelL9",
      "include_colab_link": true
    },
    "kernelspec": {
      "name": "python3",
      "display_name": "Python 3"
    },
    "language_info": {
      "name": "python"
    }
  },
  "cells": [
    {
      "cell_type": "markdown",
      "metadata": {
        "id": "view-in-github",
        "colab_type": "text"
      },
      "source": [
        "<a href=\"https://colab.research.google.com/github/vnscience/unitwin/blob/main/MaNguon_Unesco.ipynb\" target=\"_parent\"><img src=\"https://colab.research.google.com/assets/colab-badge.svg\" alt=\"Open In Colab\"/></a>"
      ]
    },
    {
      "cell_type": "markdown",
      "source": [
        "## 1. Python Basic"
      ],
      "metadata": {
        "id": "bo3vQU2ZNlzK"
      }
    },
    {
      "cell_type": "code",
      "execution_count": 1,
      "metadata": {
        "colab": {
          "base_uri": "https://localhost:8080/"
        },
        "id": "eYCOSMWbNUxx",
        "outputId": "a3520788-deb4-4354-dc6d-08ec4ef887bb"
      },
      "outputs": [
        {
          "output_type": "stream",
          "name": "stdout",
          "text": [
            "Chào mừng các bạn sinh viên năm nhất!\n",
            "Đây là buổi học về công nghệ E-learning.\n"
          ]
        }
      ],
      "source": [
        "# 1. Lệnh print() để hiển thị thông tin\n",
        "print(\"Chào mừng các bạn sinh viên năm nhất!\")\n",
        "print(\"Đây là buổi học về công nghệ E-learning.\")"
      ]
    },
    {
      "cell_type": "code",
      "source": [
        "# 2. Biến (Variables) để lưu trữ dữ liệu\n",
        "ten_sv = \"Nguyễn Thị B\"\n",
        "mssv = \"25123456\"\n",
        "diem_ky_truoc = 8.2\n",
        "\n",
        "print(\"---------------------------------\")\n",
        "print(\"Thông tin sinh viên:\")\n",
        "print(\"Tên:\", ten_sv)\n",
        "print(\"MSSV:\", mssv)\n",
        "print(\"Điểm kỳ trước:\", diem_ky_truoc)"
      ],
      "metadata": {
        "colab": {
          "base_uri": "https://localhost:8080/"
        },
        "id": "kkqb_nBZNZRp",
        "outputId": "0e8d6b69-a693-448d-c7aa-7ea4b4c4ae8f"
      },
      "execution_count": 2,
      "outputs": [
        {
          "output_type": "stream",
          "name": "stdout",
          "text": [
            "---------------------------------\n",
            "Thông tin sinh viên:\n",
            "Tên: Nguyễn Thị B\n",
            "MSSV: 25123456\n",
            "Điểm kỳ trước: 8.2\n"
          ]
        }
      ]
    },
    {
      "cell_type": "code",
      "source": [
        "# 3. Danh sách (Lists) để lưu nhiều giá trị\n",
        "mon_hoc_yeu_thich = [\"Lập trình Python\", \"Cơ sở dữ liệu\", \"Mạng máy tính\"]\n",
        "\n",
        "print(\"---------------------------------\")\n",
        "print(\"Các môn học yêu thích:\")\n",
        "print(\"Môn đầu tiên:\", mon_hoc_yeu_thich[0]) # Lấy phần tử đầu tiên (chỉ số 0)\n",
        "print(\"Môn thứ ba:\", mon_hoc_yeu_thich[2]) # Lấy phần tử thứ ba (chỉ số 2)\n",
        "print(\"Tổng số môn học yêu thích:\", len(mon_hoc_yeu_thich)) # len() để đếm số phần tử"
      ],
      "metadata": {
        "colab": {
          "base_uri": "https://localhost:8080/"
        },
        "id": "8dAy3CCZNeVA",
        "outputId": "bf97bee0-9d53-405a-8784-24b940ed294f"
      },
      "execution_count": 3,
      "outputs": [
        {
          "output_type": "stream",
          "name": "stdout",
          "text": [
            "---------------------------------\n",
            "Các môn học yêu thích:\n",
            "Môn đầu tiên: Lập trình Python\n",
            "Môn thứ ba: Mạng máy tính\n",
            "Tổng số môn học yêu thích: 3\n"
          ]
        }
      ]
    },
    {
      "cell_type": "markdown",
      "source": [
        "## 2. Web Scraping"
      ],
      "metadata": {
        "id": "idUeBvgiNpAh"
      }
    },
    {
      "cell_type": "code",
      "source": [
        "# Cài đặt thư viện cần thiết\n",
        "!pip install requests\n",
        "!pip install beautifulsoup4"
      ],
      "metadata": {
        "colab": {
          "base_uri": "https://localhost:8080/"
        },
        "id": "X79ZJEoZNsXJ",
        "outputId": "eff2e94d-bd8c-4822-8512-ac8246a5ff3b"
      },
      "execution_count": 4,
      "outputs": [
        {
          "output_type": "stream",
          "name": "stdout",
          "text": [
            "Requirement already satisfied: requests in /usr/local/lib/python3.12/dist-packages (2.32.4)\n",
            "Requirement already satisfied: charset_normalizer<4,>=2 in /usr/local/lib/python3.12/dist-packages (from requests) (3.4.3)\n",
            "Requirement already satisfied: idna<4,>=2.5 in /usr/local/lib/python3.12/dist-packages (from requests) (3.10)\n",
            "Requirement already satisfied: urllib3<3,>=1.21.1 in /usr/local/lib/python3.12/dist-packages (from requests) (2.5.0)\n",
            "Requirement already satisfied: certifi>=2017.4.17 in /usr/local/lib/python3.12/dist-packages (from requests) (2025.10.5)\n",
            "Requirement already satisfied: beautifulsoup4 in /usr/local/lib/python3.12/dist-packages (4.13.5)\n",
            "Requirement already satisfied: soupsieve>1.2 in /usr/local/lib/python3.12/dist-packages (from beautifulsoup4) (2.8)\n",
            "Requirement already satisfied: typing-extensions>=4.0.0 in /usr/local/lib/python3.12/dist-packages (from beautifulsoup4) (4.15.0)\n"
          ]
        }
      ]
    },
    {
      "cell_type": "code",
      "source": [
        "# Import thư viện\n",
        "import requests\n",
        "from bs4 import BeautifulSoup\n",
        "\n",
        "# Gửi yêu cầu đến trang web và lấy nội dung HTML\n",
        "url = \"http://quotes.toscrape.com/\"\n",
        "response = requests.get(url)\n",
        "\n",
        "# Kiểm tra xem có lấy được dữ liệu thành công không (status code 200 là OK)\n",
        "if response.status_code == 200:\n",
        "    print(\"Kết nối thành công!\")\n",
        "    html_content = response.text\n",
        "else:\n",
        "    print(\"Kết nối thất bại. Status code:\", response.status_code)"
      ],
      "metadata": {
        "colab": {
          "base_uri": "https://localhost:8080/"
        },
        "id": "-BIjsjXZN1MR",
        "outputId": "f30dafd1-a8d2-45a4-b473-14d2f0b56089"
      },
      "execution_count": 5,
      "outputs": [
        {
          "output_type": "stream",
          "name": "stdout",
          "text": [
            "Kết nối thành công!\n"
          ]
        }
      ]
    },
    {
      "cell_type": "code",
      "source": [
        "# Dùng BeautifulSoup để \"phân tích\" HTML\n",
        "# 'html.parser' là một trình phân tích có sẵn của Python\n",
        "soup = BeautifulSoup(html_content, 'html.parser')"
      ],
      "metadata": {
        "id": "eX1VLSGCN7LA"
      },
      "execution_count": 6,
      "outputs": []
    },
    {
      "cell_type": "markdown",
      "source": [
        "<div class=\"quote\" itemscope=\"\" itemtype=\"http://schema.org/CreativeWork\" bis_skin_checked=\"1\">\n",
        "\n",
        "        <span class=\"text\" itemprop=\"text\">“The world as we have created it is a process of our thinking. It cannot be changed without changing our thinking.”</span>\n",
        "        <span>by <small class=\"author\" itemprop=\"author\">Albert Einstein</small>\n",
        "        <a href=\"/author/Albert-Einstein\">(about)</a>\n",
        "        </span>\n",
        "        <div class=\"tags\" bis_skin_checked=\"1\">\n",
        "            Tags:\n",
        "            <meta class=\"keywords\" itemprop=\"keywords\" content=\"change,deep-thoughts,thinking,world\">\n",
        "            \n",
        "            <a class=\"tag\" href=\"/tag/change/page/1/\">change</a>\n",
        "            \n",
        "            <a class=\"tag\" href=\"/tag/deep-thoughts/page/1/\">deep-thoughts</a>\n",
        "            \n",
        "            <a class=\"tag\" href=\"/tag/thinking/page/1/\">thinking</a>\n",
        "            \n",
        "            <a class=\"tag\" href=\"/tag/world/page/1/\">world</a>\n",
        "            \n",
        "        </div>\n",
        "    </div>"
      ],
      "metadata": {
        "id": "M1S6h3l0OTbQ"
      }
    },
    {
      "cell_type": "code",
      "source": [
        "# Tìm tất cả các thẻ chứa trích dẫn\n",
        "# Dựa vào việc \"Inspect\" (Kiểm tra) trên trình duyệt,\n",
        "# ta thấy mỗi trích dẫn nằm trong thẻ <div> với class=\"quote\"\n",
        "all_quotes = soup.find_all('div', class_='quote')"
      ],
      "metadata": {
        "id": "cQ-5Gr2dOBwK"
      },
      "execution_count": 7,
      "outputs": []
    },
    {
      "cell_type": "code",
      "source": [
        "# Lặp qua từng trích dẫn và in ra nội dung\n",
        "print(\"\\n--- CÁC CÂU TRÍCH DẪN TÌM THẤY ---\")\n",
        "# enumerate giúp chúng ta có thêm số thứ tự `i`\n",
        "for i, quote_div in enumerate(all_quotes):\n",
        "    # Trong mỗi div 'quote', nội dung nằm trong thẻ <span> với class=\"text\"\n",
        "    quote_text = quote_div.find('span', class_='text').text\n",
        "\n",
        "    # Tác giả nằm trong thẻ <small> với class=\"author\"\n",
        "    author_text = quote_div.find('small', class_='author').text\n",
        "\n",
        "    print(f\"{i+1}. {quote_text}\")\n",
        "    print(f\"   -- Tác giả: {author_text}\\n\")"
      ],
      "metadata": {
        "colab": {
          "base_uri": "https://localhost:8080/"
        },
        "id": "hiBvMOxFOFgI",
        "outputId": "6e3dbbd9-160d-4dbf-f80d-ffb4d7b3c1bd"
      },
      "execution_count": 8,
      "outputs": [
        {
          "output_type": "stream",
          "name": "stdout",
          "text": [
            "\n",
            "--- CÁC CÂU TRÍCH DẪN TÌM THẤY ---\n",
            "1. “The world as we have created it is a process of our thinking. It cannot be changed without changing our thinking.”\n",
            "   -- Tác giả: Albert Einstein\n",
            "\n",
            "2. “It is our choices, Harry, that show what we truly are, far more than our abilities.”\n",
            "   -- Tác giả: J.K. Rowling\n",
            "\n",
            "3. “There are only two ways to live your life. One is as though nothing is a miracle. The other is as though everything is a miracle.”\n",
            "   -- Tác giả: Albert Einstein\n",
            "\n",
            "4. “The person, be it gentleman or lady, who has not pleasure in a good novel, must be intolerably stupid.”\n",
            "   -- Tác giả: Jane Austen\n",
            "\n",
            "5. “Imperfection is beauty, madness is genius and it's better to be absolutely ridiculous than absolutely boring.”\n",
            "   -- Tác giả: Marilyn Monroe\n",
            "\n",
            "6. “Try not to become a man of success. Rather become a man of value.”\n",
            "   -- Tác giả: Albert Einstein\n",
            "\n",
            "7. “It is better to be hated for what you are than to be loved for what you are not.”\n",
            "   -- Tác giả: André Gide\n",
            "\n",
            "8. “I have not failed. I've just found 10,000 ways that won't work.”\n",
            "   -- Tác giả: Thomas A. Edison\n",
            "\n",
            "9. “A woman is like a tea bag; you never know how strong it is until it's in hot water.”\n",
            "   -- Tác giả: Eleanor Roosevelt\n",
            "\n",
            "10. “A day without sunshine is like, you know, night.”\n",
            "   -- Tác giả: Steve Martin\n",
            "\n"
          ]
        }
      ]
    },
    {
      "cell_type": "markdown",
      "source": [
        "## 3. AI Basic Introduction\n",
        "\n",
        "**VÍ DỤ VỚI MNIST**\n",
        "* Mục tiêu: Giúp sinh viên hiểu cách mô hình AI nhận dạng hình ảnh\n",
        "* Tác giả: Giảng viên Khoa CNTT - Trường Đại học Mở TP.HCM\n",
        "\n"
      ],
      "metadata": {
        "id": "VGvb4Q4VOjEA"
      }
    },
    {
      "cell_type": "markdown",
      "source": [
        "**Giới thiệu về Bộ dữ liệu MNIST:**\n",
        "- Bộ dữ liệu MNIST là tập hợp 70.000 ảnh chữ số viết tay (0–9)\n",
        "- Mỗi ảnh có kích thước 28x28 pixel, ảnh grayscale (đen trắng)\n",
        "- Mục tiêu của mô hình: Nhận dạng đúng chữ số từ ảnh viết tay"
      ],
      "metadata": {
        "id": "42vfxvzmPJZY"
      }
    },
    {
      "cell_type": "code",
      "source": [
        "# Cài đặt và tải bộ dữ liệu MNIST\n",
        "import tensorflow as tf\n",
        "from tensorflow import keras\n",
        "import numpy as np\n",
        "import matplotlib.pyplot as plt\n",
        "\n",
        "# Tải bộ dữ liệu MNIST có sẵn trong TensorFlow\n",
        "(x_train, y_train), (x_test, y_test) = keras.datasets.mnist.load_data()\n",
        "\n",
        "# Chuẩn hóa dữ liệu về khoảng [0,1] để mô hình dễ học\n",
        "x_train = x_train / 255.0\n",
        "x_test = x_test / 255.0\n",
        "\n",
        "print(\"✅ Dữ liệu MNIST đã được tải và chuẩn hóa thành công!\")\n",
        "print(f\"Kích thước tập huấn luyện: {x_train.shape}\")\n",
        "print(f\"Kích thước tập kiểm tra: {x_test.shape}\")\n"
      ],
      "metadata": {
        "colab": {
          "base_uri": "https://localhost:8080/"
        },
        "id": "1fSY7UswOoGh",
        "outputId": "ed4849d0-f03f-42a4-fdb8-cda3ade4ce96"
      },
      "execution_count": 9,
      "outputs": [
        {
          "output_type": "stream",
          "name": "stdout",
          "text": [
            "Downloading data from https://storage.googleapis.com/tensorflow/tf-keras-datasets/mnist.npz\n",
            "\u001b[1m11490434/11490434\u001b[0m \u001b[32m━━━━━━━━━━━━━━━━━━━━\u001b[0m\u001b[37m\u001b[0m \u001b[1m0s\u001b[0m 0us/step\n",
            "✅ Dữ liệu MNIST đã được tải và chuẩn hóa thành công!\n",
            "Kích thước tập huấn luyện: (60000, 28, 28)\n",
            "Kích thước tập kiểm tra: (10000, 28, 28)\n"
          ]
        }
      ]
    },
    {
      "cell_type": "code",
      "source": [
        "# Hiển thị một vài hình ảnh mẫu\n",
        "# Hiển thị 10 hình ảnh đầu tiên trong tập huấn luyện\n",
        "plt.figure(figsize=(10, 2))\n",
        "for i in range(10):\n",
        "    plt.subplot(1, 10, i+1)\n",
        "    plt.imshow(x_train[i], cmap=\"gray\")\n",
        "    plt.title(str(y_train[i]))\n",
        "    plt.axis(\"off\")\n",
        "plt.show()\n",
        "\n",
        "print(\"Trên đây là một vài hình ảnh chữ số viết tay trong bộ dữ liệu MNIST.\")"
      ],
      "metadata": {
        "colab": {
          "base_uri": "https://localhost:8080/",
          "height": 143
        },
        "id": "5k1UFiC3Pabo",
        "outputId": "e22edc80-1f5e-4d3a-bf94-02be09cee219"
      },
      "execution_count": 10,
      "outputs": [
        {
          "output_type": "display_data",
          "data": {
            "text/plain": [
              "<Figure size 1000x200 with 10 Axes>"
            ],
            "image/png": "[encoded data removed]"
          },
          "metadata": {}
        },
        {
          "output_type": "stream",
          "name": "stdout",
          "text": [
            "Trên đây là một vài hình ảnh chữ số viết tay trong bộ dữ liệu MNIST.\n"
          ]
        }
      ]
    },
    {
      "cell_type": "code",
      "source": [
        "# Tải mô hình đã huấn luyện sẵn\n",
        "# Mô hình được huấn luyện sẵn (pre-trained model)\n",
        "# Giả định file đã được lưu sẵn trên Google Drive hoặc link công khai\n",
        "# Ở đây ta tạo nhanh một mô hình và huấn luyện nhẹ cho mục đích minh họa\n",
        "\n",
        "model = keras.Sequential([\n",
        "    keras.layers.Flatten(input_shape=(28, 28)),\n",
        "    keras.layers.Dense(128, activation='relu'),\n",
        "    keras.layers.Dense(10, activation='softmax')\n",
        "])\n",
        "\n",
        "# Biên dịch mô hình (compile)\n",
        "model.compile(optimizer='adam',\n",
        "              loss='sparse_categorical_crossentropy',\n",
        "              metrics=['accuracy'])\n",
        "\n",
        "# Huấn luyện nhanh 1 epoch để có mô hình sẵn (có thể bỏ qua khi load model thật)\n",
        "model.fit(x_train, y_train, epochs=5, verbose=1)\n",
        "\n",
        "print(\"✅ Mô hình AI đã được khởi tạo và sẵn sàng dự đoán!\")"
      ],
      "metadata": {
        "colab": {
          "base_uri": "https://localhost:8080/"
        },
        "id": "v-wBCNuUPhSY",
        "outputId": "dfda1991-a450-4129-b850-d6319affc713"
      },
      "execution_count": 11,
      "outputs": [
        {
          "output_type": "stream",
          "name": "stderr",
          "text": [
            "/usr/local/lib/python3.12/dist-packages/keras/src/layers/reshaping/flatten.py:37: UserWarning: Do not pass an `input_shape`/`input_dim` argument to a layer. When using Sequential models, prefer using an `Input(shape)` object as the first layer in the model instead.\n",
            "  super().__init__(**kwargs)\n"
          ]
        },
        {
          "output_type": "stream",
          "name": "stdout",
          "text": [
            "Epoch 1/5\n",
            "\u001b[1m1875/1875\u001b[0m \u001b[32m━━━━━━━━━━━━━━━━━━━━\u001b[0m\u001b[37m\u001b[0m \u001b[1m9s\u001b[0m 4ms/step - accuracy: 0.8726 - loss: 0.4437\n",
            "Epoch 2/5\n",
            "\u001b[1m1875/1875\u001b[0m \u001b[32m━━━━━━━━━━━━━━━━━━━━\u001b[0m\u001b[37m\u001b[0m \u001b[1m10s\u001b[0m 4ms/step - accuracy: 0.9651 - loss: 0.1209\n",
            "Epoch 3/5\n",
            "\u001b[1m1875/1875\u001b[0m \u001b[32m━━━━━━━━━━━━━━━━━━━━\u001b[0m\u001b[37m\u001b[0m \u001b[1m8s\u001b[0m 4ms/step - accuracy: 0.9769 - loss: 0.0765\n",
            "Epoch 4/5\n",
            "\u001b[1m1875/1875\u001b[0m \u001b[32m━━━━━━━━━━━━━━━━━━━━\u001b[0m\u001b[37m\u001b[0m \u001b[1m7s\u001b[0m 4ms/step - accuracy: 0.9832 - loss: 0.0582\n",
            "Epoch 5/5\n",
            "\u001b[1m1875/1875\u001b[0m \u001b[32m━━━━━━━━━━━━━━━━━━━━\u001b[0m\u001b[37m\u001b[0m \u001b[1m8s\u001b[0m 4ms/step - accuracy: 0.9869 - loss: 0.0451\n",
            "✅ Mô hình AI đã được khởi tạo và sẵn sàng dự đoán!\n"
          ]
        }
      ]
    },
    {
      "cell_type": "code",
      "source": [
        "import random\n",
        "# Lấy ngẫu nhiên một ảnh từ tập kiểm tra\n",
        "# Chọn ngẫu nhiên một chỉ số ảnh\n",
        "index = random.randint(0, len(x_test)-1)\n",
        "image = x_test[index]\n",
        "label = y_test[index]\n",
        "\n",
        "# Hiển thị ảnh\n",
        "plt.imshow(image, cmap=\"gray\")\n",
        "plt.title(f\"Hình ảnh thực tế là số: {label}\")\n",
        "plt.axis(\"off\")\n",
        "plt.show()"
      ],
      "metadata": {
        "colab": {
          "base_uri": "https://localhost:8080/",
          "height": 429
        },
        "id": "iQ467RNuPrH4",
        "outputId": "d5a6c00a-964f-41fb-a967-b76611b5fa63"
      },
      "execution_count": 12,
      "outputs": [
        {
          "output_type": "display_data",
          "data": {
            "text/plain": [
              "<Figure size 640x480 with 1 Axes>"
            ],
            "image/png": "[encoded data removed]"
          },
          "metadata": {}
        }
      ]
    },
    {
      "cell_type": "code",
      "source": [
        "# Dự đoán và in kết quả\n",
        "# Mô hình dự đoán\n",
        "prediction = model.predict(image.reshape(1, 28, 28))\n",
        "predicted_label = np.argmax(prediction)\n",
        "\n",
        "print(f\"Hình ảnh thực tế là số: {label}\")\n",
        "print(f\"Mô hình AI dự đoán là số: {predicted_label}\")\n",
        "\n",
        "if predicted_label == label:\n",
        "    print(\"==> 🎉 KẾT QUẢ: ĐÚNG ✅\")\n",
        "else:\n",
        "    print(\"==> ❌ KẾT QUẢ: SAI\")\n"
      ],
      "metadata": {
        "colab": {
          "base_uri": "https://localhost:8080/"
        },
        "id": "9nbqENk_Pw5Q",
        "outputId": "a75bf5b9-1e6e-4398-c37c-d044ebfaff36"
      },
      "execution_count": 13,
      "outputs": [
        {
          "output_type": "stream",
          "name": "stdout",
          "text": [
            "\u001b[1m1/1\u001b[0m \u001b[32m━━━━━━━━━━━━━━━━━━━━\u001b[0m\u001b[37m\u001b[0m \u001b[1m0s\u001b[0m 66ms/step\n",
            "Hình ảnh thực tế là số: 8\n",
            "Mô hình AI dự đoán là số: 8\n",
            "==> 🎉 KẾT QUẢ: ĐÚNG ✅\n"
          ]
        }
      ]
    },
    {
      "cell_type": "code",
      "source": [
        "# Thực hành – Thử nghiệm các chỉ số khác nhau\n",
        "# 🔹 Sinh viên thay đổi giá trị index để kiểm tra các ảnh khác nhau\n",
        "# Ví dụ: index = 45 hoặc index = 999\n",
        "index = 100\n",
        "\n",
        "image = x_test[index]\n",
        "label = y_test[index]\n",
        "\n",
        "plt.imshow(image, cmap=\"gray\")\n",
        "plt.title(f\"Thực tế: {label}\")\n",
        "plt.axis(\"off\")\n",
        "plt.show()\n",
        "\n",
        "# Dự đoán\n",
        "prediction = model.predict(image.reshape(1, 28, 28))\n",
        "predicted_label = np.argmax(prediction)\n",
        "\n",
        "print(f\"Mô hình dự đoán: {predicted_label}\")\n",
        "if predicted_label == label:\n",
        "    print(\"==> ✅ Kết quả chính xác!\")\n",
        "else:\n",
        "    print(\"==> ❌ Mô hình dự đoán sai.\")"
      ],
      "metadata": {
        "colab": {
          "base_uri": "https://localhost:8080/",
          "height": 484
        },
        "id": "u6JkEwGCP4CX",
        "outputId": "16ed310a-8ebc-4578-a6cd-dba88b0fa176"
      },
      "execution_count": 14,
      "outputs": [
        {
          "output_type": "display_data",
          "data": {
            "text/plain": [
              "<Figure size 640x480 with 1 Axes>"
            ],
            "image/png": "[encoded data removed]"
          },
          "metadata": {}
        },
        {
          "output_type": "stream",
          "name": "stdout",
          "text": [
            "\u001b[1m1/1\u001b[0m \u001b[32m━━━━━━━━━━━━━━━━━━━━\u001b[0m\u001b[37m\u001b[0m \u001b[1m0s\u001b[0m 37ms/step\n",
            "Mô hình dự đoán: 6\n",
            "==> ✅ Kết quả chính xác!\n"
          ]
        }
      ]
    },
    {
      "cell_type": "markdown",
      "source": [
        "📘 TỔNG KẾT:\n",
        "- Mô hình AI có thể nhận dạng chữ số viết tay từ ảnh grayscale.\n",
        "- Đây là ví dụ điển hình của ứng dụng Deep Learning trong thị giác máy tính.\n",
        "- Bước tiếp theo: Sinh viên có thể thử mô hình CNN (Convolutional Neural Network) để tăng độ chính xác."
      ],
      "metadata": {
        "id": "CeiTMVueP-zA"
      }
    },
    {
      "cell_type": "markdown",
      "source": [
        "### Mở rộng (nâng cao)"
      ],
      "metadata": {
        "id": "p6iymnKdS0VH"
      }
    },
    {
      "cell_type": "code",
      "source": [
        "# ----------------------------------------------------------\n",
        "# 🔍 KIỂM TRA ĐỘ BỀN CỦA MÔ HÌNH\n",
        "# ----------------------------------------------------------\n",
        "# Nhiệm vụ: chạy dự đoán 10 ảnh khác nhau và xem mô hình đoán đúng bao nhiêu lần\n",
        "\n",
        "import random\n",
        "\n",
        "correct = 0\n",
        "total = 10\n",
        "\n",
        "for i in range(total):\n",
        "    index = random.randint(0, len(x_test)-1)\n",
        "    image = x_test[index]\n",
        "    label = y_test[index]\n",
        "\n",
        "    # Dự đoán\n",
        "    prediction = model.predict(image.reshape(1, 28, 28), verbose=0)\n",
        "    predicted_label = np.argmax(prediction)\n",
        "\n",
        "    if predicted_label == label:\n",
        "        correct += 1\n",
        "\n",
        "    # Hiển thị ảnh và kết quả\n",
        "    plt.imshow(image, cmap=\"gray\")\n",
        "    plt.title(f\"Thực tế: {label} | Dự đoán: {predicted_label}\")\n",
        "    plt.axis(\"off\")\n",
        "    plt.show()\n",
        "\n",
        "print(f\"✅ Mô hình dự đoán đúng {correct}/{total} hình ảnh.\")\n",
        "print(f\"🎯 Độ chính xác tạm thời (ước tính): {correct/total*100:.1f}%\")\n"
      ],
      "metadata": {
        "colab": {
          "base_uri": "https://localhost:8080/",
          "height": 1000
        },
        "id": "H809nNKtS2mw",
        "outputId": "87c258ad-9f6d-4298-9e43-b19e8430808f"
      },
      "execution_count": 15,
      "outputs": [
        {
          "output_type": "display_data",
          "data": {
            "text/plain": [
              "<Figure size 640x480 with 1 Axes>"
            ],
            "image/png": "[encoded data removed]"
          },
          "metadata": {}
        },
        {
          "output_type": "display_data",
          "data": {
            "text/plain": [
              "<Figure size 640x480 with 1 Axes>"
            ],
            "image/png": "[encoded data removed]"
          },
          "metadata": {}
        },
        {
          "output_type": "display_data",
          "data": {
            "text/plain": [
              "<Figure size 640x480 with 1 Axes>"
            ],
            "image/png": "[encoded data removed]"
          },
          "metadata": {}
        },
        {
          "output_type": "display_data",
          "data": {
            "text/plain": [
              "<Figure size 640x480 with 1 Axes>"
            ],
            "image/png": "[encoded data removed]"
          },
          "metadata": {}
        },
        {
          "output_type": "display_data",
          "data": {
            "text/plain": [
              "<Figure size 640x480 with 1 Axes>"
            ],
            "image/png": "[encoded data removed]"
          },
          "metadata": {}
        },
        {
          "output_type": "display_data",
          "data": {
            "text/plain": [
              "<Figure size 640x480 with 1 Axes>"
            ],
            "image/png": "[encoded data removed]"
          },
          "metadata": {}
        },
        {
          "output_type": "display_data",
          "data": {
            "text/plain": [
              "<Figure size 640x480 with 1 Axes>"
            ],
            "image/png": "[encoded data removed]"
          },
          "metadata": {}
        },
        {
          "output_type": "display_data",
          "data": {
            "text/plain": [
              "<Figure size 640x480 with 1 Axes>"
            ],
            "image/png": "[encoded data removed]"
          },
          "metadata": {}
        },
        {
          "output_type": "display_data",
          "data": {
            "text/plain": [
              "<Figure size 640x480 with 1 Axes>"
            ],
            "image/png": "[encoded data removed]"
          },
          "metadata": {}
        },
        {
          "output_type": "display_data",
          "data": {
            "text/plain": [
              "<Figure size 640x480 with 1 Axes>"
            ],
            "image/png": "[encoded data removed]"
          },
          "metadata": {}
        },
        {
          "output_type": "stream",
          "name": "stdout",
          "text": [
            "✅ Mô hình dự đoán đúng 8/10 hình ảnh.\n",
            "🎯 Độ chính xác tạm thời (ước tính): 80.0%\n"
          ]
        }
      ]
    },
    {
      "cell_type": "code",
      "source": [
        "# ----------------------------------------------------------\n",
        "# 🤖 THỬ TINH CHỈNH MÔ HÌNH – LÀM \"AI TỆ ĐI\"\n",
        "# ----------------------------------------------------------\n",
        "# Hướng dẫn:\n",
        "# 1. Kéo lên cell định nghĩa mô hình (Cell 4)\n",
        "# 2. Tìm dòng lệnh: model.fit(x_train, y_train, epochs=5)\n",
        "# 3. Giảm epochs = 1, rồi bấm \"Runtime > Run all\" để chạy lại toàn bộ notebook.\n",
        "# ----------------------------------------------------------\n",
        "# Gợi ý: epochs = 1 nghĩa là mô hình chỉ học qua dữ liệu một lần duy nhất.\n",
        "# Sau đó, chạy lại Cell 7 để xem mô hình còn đoán đúng bao nhiêu ảnh?\n",
        "\n",
        "print(\"\"\"\n",
        "🧪 THỰC HÀNH: Làm AI tệ đi\n",
        "----------------------------------\n",
        "1️⃣ Cuộn lên Cell 4 (định nghĩa mô hình).\n",
        "2️⃣ Tìm dòng: model.fit(x_train, y_train, epochs=5)\n",
        "3️⃣ Sửa lại thành: epochs=1\n",
        "4️⃣ Bấm Runtime > Run all để chạy lại toàn bộ file.\n",
        "5️⃣ Cuối cùng, quay lại chạy Cell 7 để xem AI còn đoán đúng bao nhiêu ảnh?\n",
        "\"\"\")\n"
      ],
      "metadata": {
        "colab": {
          "base_uri": "https://localhost:8080/"
        },
        "id": "wz_uOH86S8df",
        "outputId": "59972c03-62f6-4360-e219-2d93ec0e02eb"
      },
      "execution_count": 16,
      "outputs": [
        {
          "output_type": "stream",
          "name": "stdout",
          "text": [
            "\n",
            "🧪 THỰC HÀNH: Làm AI tệ đi\n",
            "----------------------------------\n",
            "1️⃣ Cuộn lên Cell 4 (định nghĩa mô hình).\n",
            "2️⃣ Tìm dòng: model.fit(x_train, y_train, epochs=5)\n",
            "3️⃣ Sửa lại thành: epochs=1\n",
            "4️⃣ Bấm Runtime > Run all để chạy lại toàn bộ file.\n",
            "5️⃣ Cuối cùng, quay lại chạy Cell 7 để xem AI còn đoán đúng bao nhiêu ảnh?\n",
            "\n"
          ]
        }
      ]
    },
    {
      "cell_type": "code",
      "source": [
        "# ----------------------------------------------------------\n",
        "# 🎨 THỬ THÁCH: DỰ ĐOÁN ẢNH CHỮ SỐ DO SINH VIÊN TỰ VẼ\n",
        "# ----------------------------------------------------------\n",
        "# Bước 1: Dùng Paint, vẽ một chữ số (0–9) màu trắng trên nền đen.\n",
        "# Bước 2: Lưu file dưới dạng PNG, ví dụ: so3.png\n",
        "# Bước 3: Chạy cell dưới đây để tải ảnh lên Colab.\n",
        "# ----------------------------------------------------------\n",
        "\n",
        "from google.colab import files\n",
        "from PIL import Image, ImageOps\n",
        "\n",
        "uploaded = files.upload()\n",
        "\n",
        "for filename in uploaded.keys():\n",
        "    # Đọc ảnh và chuyển sang ảnh xám (grayscale)\n",
        "    img = Image.open(filename).convert('L')\n",
        "\n",
        "    # Đảm bảo kích thước 28x28\n",
        "    img = ImageOps.invert(img)          # Đảo màu (nền trắng, chữ đen)\n",
        "    img = img.resize((28, 28))\n",
        "\n",
        "    # Chuyển ảnh thành numpy array và chuẩn hóa\n",
        "    img_array = np.array(img) / 255.0\n",
        "\n",
        "    # Hiển thị ảnh\n",
        "    plt.imshow(img_array, cmap='gray')\n",
        "    plt.axis('off')\n",
        "    plt.show()\n",
        "\n",
        "    # Dự đoán\n",
        "    prediction = model.predict(img_array.reshape(1, 28, 28))\n",
        "    predicted_label = np.argmax(prediction)\n",
        "\n",
        "    print(f\"🧩 Mô hình AI dự đoán ảnh của bạn là: {predicted_label}\")\n"
      ],
      "metadata": {
        "colab": {
          "base_uri": "https://localhost:8080/",
          "height": 38
        },
        "id": "s73gRqmtTX0f",
        "outputId": "b2e139f9-e156-4968-ec04-46dbb56c0c41"
      },
      "execution_count": 17,
      "outputs": [
        {
          "output_type": "display_data",
          "data": {
            "text/plain": [
              "<IPython.core.display.HTML object>"
            ],
            "text/html": [
              "\n",
              "     <input type=\"file\" id=\"files-e4f188b0-73eb-4ed4-9470-4bb67477129b\" name=\"files[]\" multiple disabled\n",
              "        style=\"border:none\" />\n",
              "     <output id=\"result-e4f188b0-73eb-4ed4-9470-4bb67477129b\">\n",
              "      Upload widget is only available when the cell has been executed in the\n",
              "      current browser session. Please rerun this cell to enable.\n",
              "      </output>\n",
              "      <script>// Copyright 2017 Google LLC\n",
              "//\n",
              "// Licensed under the Apache License, Version 2.0 (the \"License\");\n",
              "// you may not use this file except in compliance with the License.\n",
              "// You may obtain a copy of the License at\n",
              "//\n",
              "//      http://www.apache.org/licenses/LICENSE-2.0\n",
              "//\n",
              "// Unless required by applicable law or agreed to in writing, software\n",
              "// distributed under the License is distributed on an \"AS IS\" BASIS,\n",
              "// WITHOUT WARRANTIES OR CONDITIONS OF ANY KIND, either express or implied.\n",
              "// See the License for the specific language governing permissions and\n",
              "// limitations under the License.\n",
              "\n",
              "/**\n",
              " * @fileoverview Helpers for google.colab Python module.\n",
              " */\n",
              "(function(scope) {\n",
              "function span(text, styleAttributes = {}) {\n",
              "  const element = document.createElement('span');\n",
              "  element.textContent = text;\n",
              "  for (const key of Object.keys(styleAttributes)) {\n",
              "    element.style[key] = styleAttributes[key];\n",
              "  }\n",
              "  return element;\n",
              "}\n",
              "\n",
              "// Max number of bytes which will be uploaded at a time.\n",
              "const MAX_PAYLOAD_SIZE = 100 * 1024;\n",
              "\n",
              "function _uploadFiles(inputId, outputId) {\n",
              "  const steps = uploadFilesStep(inputId, outputId);\n",
              "  const outputElement = document.getElementById(outputId);\n",
              "  // Cache steps on the outputElement to make it available for the next call\n",
              "  // to uploadFilesContinue from Python.\n",
              "  outputElement.steps = steps;\n",
              "\n",
              "  return _uploadFilesContinue(outputId);\n",
              "}\n",
              "\n",
              "// This is roughly an async generator (not supported in the browser yet),\n",
              "// where there are multiple asynchronous steps and the Python side is going\n",
              "// to poll for completion of each step.\n",
              "// This uses a Promise to block the python side on completion of each step,\n",
              "// then passes the result of the previous step as the input to the next step.\n",
              "function _uploadFilesContinue(outputId) {\n",
              "  const outputElement = document.getElementById(outputId);\n",
              "  const steps = outputElement.steps;\n",
              "\n",
              "  const next = steps.next(outputElement.lastPromiseValue);\n",
              "  return Promise.resolve(next.value.promise).then((value) => {\n",
              "    // Cache the last promise value to make it available to the next\n",
              "    // step of the generator.\n",
              "    outputElement.lastPromiseValue = value;\n",
              "    return next.value.response;\n",
              "  });\n",
              "}\n",
              "\n",
              "/**\n",
              " * Generator function which is called between each async step of the upload\n",
              " * process.\n",
              " * @param {string} inputId Element ID of the input file picker element.\n",
              " * @param {string} outputId Element ID of the output display.\n",
              " * @return {!Iterable<!Object>} Iterable of next steps.\n",
              " */\n",
              "function* uploadFilesStep(inputId, outputId) {\n",
              "  const inputElement = document.getElementById(inputId);\n",
              "  inputElement.disabled = false;\n",
              "\n",
              "  const outputElement = document.getElementById(outputId);\n",
              "  outputElement.innerHTML = '';\n",
              "\n",
              "  const pickedPromise = new Promise((resolve) => {\n",
              "    inputElement.addEventListener('change', (e) => {\n",
              "      resolve(e.target.files);\n",
              "    });\n",
              "  });\n",
              "\n",
              "  const cancel = document.createElement('button');\n",
              "  inputElement.parentElement.appendChild(cancel);\n",
              "  cancel.textContent = 'Cancel upload';\n",
              "  const cancelPromise = new Promise((resolve) => {\n",
              "    cancel.onclick = () => {\n",
              "      resolve(null);\n",
              "    };\n",
              "  });\n",
              "\n",
              "  // Wait for the user to pick the files.\n",
              "  const files = yield {\n",
              "    promise: Promise.race([pickedPromise, cancelPromise]),\n",
              "    response: {\n",
              "      action: 'starting',\n",
              "    }\n",
              "  };\n",
              "\n",
              "  cancel.remove();\n",
              "\n",
              "  // Disable the input element since further picks are not allowed.\n",
              "  inputElement.disabled = true;\n",
              "\n",
              "  if (!files) {\n",
              "    return {\n",
              "      response: {\n",
              "        action: 'complete',\n",
              "      }\n",
              "    };\n",
              "  }\n",
              "\n",
              "  for (const file of files) {\n",
              "    const li = document.createElement('li');\n",
              "    li.append(span(file.name, {fontWeight: 'bold'}));\n",
              "    li.append(span(\n",
              "        `(${file.type || 'n/a'}) - ${file.size} bytes, ` +\n",
              "        `last modified: ${\n",
              "            file.lastModifiedDate ? file.lastModifiedDate.toLocaleDateString() :\n",
              "                                    'n/a'} - `));\n",
              "    const percent = span('0% done');\n",
              "    li.appendChild(percent);\n",
              "\n",
              "    outputElement.appendChild(li);\n",
              "\n",
              "    const fileDataPromise = new Promise((resolve) => {\n",
              "      const reader = new FileReader();\n",
              "      reader.onload = (e) => {\n",
              "        resolve(e.target.result);\n",
              "      };\n",
              "      reader.readAsArrayBuffer(file);\n",
              "    });\n",
              "    // Wait for the data to be ready.\n",
              "    let fileData = yield {\n",
              "      promise: fileDataPromise,\n",
              "      response: {\n",
              "        action: 'continue',\n",
              "      }\n",
              "    };\n",
              "\n",
              "    // Use a chunked sending to avoid message size limits. See b/62115660.\n",
              "    let position = 0;\n",
              "    do {\n",
              "      const length = Math.min(fileData.byteLength - position, MAX_PAYLOAD_SIZE);\n",
              "      const chunk = new Uint8Array(fileData, position, length);\n",
              "      position += length;\n",
              "\n",
              "      const base64 = btoa(String.fromCharCode.apply(null, chunk));\n",
              "      yield {\n",
              "        response: {\n",
              "          action: 'append',\n",
              "          file: file.name,\n",
              "          data: base64,\n",
              "        },\n",
              "      };\n",
              "\n",
              "      let percentDone = fileData.byteLength === 0 ?\n",
              "          100 :\n",
              "          Math.round((position / fileData.byteLength) * 100);\n",
              "      percent.textContent = `${percentDone}% done`;\n",
              "\n",
              "    } while (position < fileData.byteLength);\n",
              "  }\n",
              "\n",
              "  // All done.\n",
              "  yield {\n",
              "    response: {\n",
              "      action: 'complete',\n",
              "    }\n",
              "  };\n",
              "}\n",
              "\n",
              "scope.google = scope.google || {};\n",
              "scope.google.colab = scope.google.colab || {};\n",
              "scope.google.colab._files = {\n",
              "  _uploadFiles,\n",
              "  _uploadFilesContinue,\n",
              "};\n",
              "})(self);\n",
              "</script> "
            ]
          },
          "metadata": {}
        }
      ]
    },
    {
      "cell_type": "markdown",
      "source": [
        "## Bài tập luyện tập"
      ],
      "metadata": {
        "id": "h0LlP4W0QlH4"
      }
    },
    {
      "cell_type": "markdown",
      "source": [
        "**Chuẩn bị môi trường**"
      ],
      "metadata": {
        "id": "a9UBnKCwQ5lw"
      }
    },
    {
      "cell_type": "code",
      "source": [
        "# Cài đặt thư viện nếu cần (chỉ cần chạy 1 lần trong Colab)\n",
        "!pip install requests beautifulsoup4"
      ],
      "metadata": {
        "colab": {
          "base_uri": "https://localhost:8080/"
        },
        "collapsed": true,
        "id": "-phvcIxaP7uo",
        "outputId": "11a42bae-7d4c-4cd0-9877-669e29106736"
      },
      "execution_count": 18,
      "outputs": [
        {
          "output_type": "stream",
          "name": "stdout",
          "text": [
            "Requirement already satisfied: requests in /usr/local/lib/python3.12/dist-packages (2.32.4)\n",
            "Requirement already satisfied: beautifulsoup4 in /usr/local/lib/python3.12/dist-packages (4.13.5)\n",
            "Requirement already satisfied: charset_normalizer<4,>=2 in /usr/local/lib/python3.12/dist-packages (from requests) (3.4.3)\n",
            "Requirement already satisfied: idna<4,>=2.5 in /usr/local/lib/python3.12/dist-packages (from requests) (3.10)\n",
            "Requirement already satisfied: urllib3<3,>=1.21.1 in /usr/local/lib/python3.12/dist-packages (from requests) (2.5.0)\n",
            "Requirement already satisfied: certifi>=2017.4.17 in /usr/local/lib/python3.12/dist-packages (from requests) (2025.10.5)\n",
            "Requirement already satisfied: soupsieve>1.2 in /usr/local/lib/python3.12/dist-packages (from beautifulsoup4) (2.8)\n",
            "Requirement already satisfied: typing-extensions>=4.0.0 in /usr/local/lib/python3.12/dist-packages (from beautifulsoup4) (4.15.0)\n"
          ]
        }
      ]
    },
    {
      "cell_type": "code",
      "source": [
        "# Import các thư viện cần thiết\n",
        "import requests\n",
        "from bs4 import BeautifulSoup"
      ],
      "metadata": {
        "collapsed": true,
        "id": "A1Ta7HviQ1WA"
      },
      "execution_count": 19,
      "outputs": []
    },
    {
      "cell_type": "markdown",
      "source": [
        "### **Chủ đề Tin tức**\n",
        "Lấy 5 tiêu đề bài viết đầu tiên từ VnExpress"
      ],
      "metadata": {
        "id": "3Q9noJ5WQ8rg"
      }
    },
    {
      "cell_type": "code",
      "source": [
        "# Bước 1. Gửi yêu cầu đến trang web\n",
        "# Gửi yêu cầu HTTP đến trang chủ VnExpress\n",
        "url = \"https://vnexpress.net/\"\n",
        "response = requests.get(url)\n",
        "\n",
        "# Kiểm tra trạng thái kết nối\n",
        "print(\"Mã trạng thái:\", response.status_code)"
      ],
      "metadata": {
        "colab": {
          "base_uri": "https://localhost:8080/"
        },
        "id": "qW1hJuNVQ3SY",
        "outputId": "31292262-a237-47ae-a3a2-260150276bb7"
      },
      "execution_count": 20,
      "outputs": [
        {
          "output_type": "stream",
          "name": "stdout",
          "text": [
            "Mã trạng thái: 200\n"
          ]
        }
      ]
    },
    {
      "cell_type": "code",
      "source": [
        "# Bước 2. Phân tích cấu trúc HTML bằng BeautifulSoup\n",
        "# Phân tích HTML của trang\n",
        "soup = BeautifulSoup(response.text, \"html.parser\")\n",
        "\n",
        "# Tìm tất cả thẻ chứa tiêu đề bài viết\n",
        "# Gợi ý: Sau khi \"Inspect\", ta thấy tiêu đề bài viết nằm trong thẻ <h3> với class \"title-news\"\n",
        "titles = soup.find_all(\"h3\", class_=\"title-news\", limit=5)\n",
        "\n",
        "# Hiển thị 5 tiêu đề đầu tiên\n",
        "print(\"📰 5 tiêu đề mới nhất trên VnExpress:\")\n",
        "for i, t in enumerate(titles, 1):\n",
        "    print(f\"{i}. {t.get_text(strip=True)}\")\n"
      ],
      "metadata": {
        "colab": {
          "base_uri": "https://localhost:8080/"
        },
        "id": "TRaNnrAARFLQ",
        "outputId": "b9069fc2-27e5-4696-c9ed-b8ef8c34598f"
      },
      "execution_count": 21,
      "outputs": [
        {
          "output_type": "stream",
          "name": "stdout",
          "text": [
            "📰 5 tiêu đề mới nhất trên VnExpress:\n",
            "1. Miền Trung mưa lớn\n",
            "2. Shark Bình bị cáo buộc rút ví của 30.000 nhà đầu tư ra sao?\n",
            "3. Người đàn ông khống chế nữ bác sĩ, dọa 'chọc bút vào mắt'\n",
            "4. Nghịch lý người Mỹ lương cao vẫn 'tiền về là hết'\n",
            "5. Hoa hậu Đỗ Thị Hà khóc ở lễ ăn hỏi\n"
          ]
        }
      ]
    },
    {
      "cell_type": "code",
      "source": [
        "# Bonus: Lấy mô tả ngắn (sapo) của bài viết\n",
        "# Lấy cả tiêu đề và mô tả ngắn của 5 bài viết đầu tiên\n",
        "articles = soup.find_all(\"article\", class_=\"item-news\", limit=5)\n",
        "\n",
        "print(\"🕵️‍♀️ Dưới đây là 5 bài viết đầu tiên:\")\n",
        "for i, a in enumerate(articles, 1):\n",
        "    title_tag = a.find(\"h3\", class_=\"title-news\")\n",
        "    sapo_tag = a.find(\"p\", class_=\"description\")\n",
        "\n",
        "    title = title_tag.get_text(strip=True) if title_tag else \"Không có tiêu đề\"\n",
        "    sapo = sapo_tag.get_text(strip=True) if sapo_tag else \"Không có mô tả\"\n",
        "\n",
        "    print(f\"\\n{i}. {title}\\n👉 {sapo}\")\n"
      ],
      "metadata": {
        "colab": {
          "base_uri": "https://localhost:8080/"
        },
        "id": "KvHXcjpCRKGA",
        "outputId": "5b6fd3fd-7d86-4654-dad0-5f0768c357c7"
      },
      "execution_count": 22,
      "outputs": [
        {
          "output_type": "stream",
          "name": "stdout",
          "text": [
            "🕵️‍♀️ Dưới đây là 5 bài viết đầu tiên:\n",
            "\n",
            "1. Miền Trung mưa lớn\n",
            "👉 Khu vực Quảng Trị - Quảng Ngãi tiếp tục mưa lớn trong ba ngày tới, cục bộ tại TP Huế có khả năng vượt 500 mm, nguy cơ ngập lụt ở đô thị, sạt lở vùng núi.\n",
            "\n",
            "2. Shark Bình bị cáo buộc rút ví của 30.000 nhà đầu tư ra sao?\n",
            "👉 Theo cơ quan điều tra, Shark Bình cùng các cổ đông thành lập công ty dự án “tiền số AntEx”, bán 33,2 tỷ token cho khoảng 30.000 nhà đầu tư (tương đương 117 tỷ đồng), rồi rút tiền từ ví để chiếm đoạt, chia nhau.\n",
            "\n",
            "3. Người đàn ông khống chế nữ bác sĩ, dọa 'chọc bút vào mắt'\n",
            "👉 Nghệ AnBác sĩ nữ đang làm việc tại phòng thủ tục hành chính Bệnh viện Đa khoa Diễn Châu thì bị người đàn ông to tiếng, vòng tay qua cổ khống chế, dọa \"chọc bút vào mắt\".\n",
            "\n",
            "4. Nghịch lý người Mỹ lương cao vẫn 'tiền về là hết'\n",
            "👉 Nhiều người Mỹ thu nhập trên 500.000 USD mỗi năm vẫn phải chật vật chi tiêu, khi lạm phát lối sống khiến họ chi tiêu vượt quá khả năng.\n",
            "\n",
            "5. Hoa hậu Đỗ Thị Hà khóc ở lễ ăn hỏi\n",
            "👉 Thanh HóaHoa hậu Đỗ Thị Hà xúc động khi bố mẹ hai bên dặn dò và trao sính lễ ở lễ ăn hỏi với doanh nhân Nguyễn Viết Vương, sáng 16/10.\n"
          ]
        }
      ]
    },
    {
      "cell_type": "markdown",
      "source": [
        "### **Chủ đề Phim ảnh**\n",
        "Ví dụ: lấy danh sách phim đang chiếu từ trang CGV hoặc Moveek."
      ],
      "metadata": {
        "id": "H48J13AmRbAQ"
      }
    },
    {
      "cell_type": "code",
      "source": [
        "# Import thư viện\n",
        "import requests\n",
        "from bs4 import BeautifulSoup\n",
        "\n",
        "# URL trang đang chiếu\n",
        "url = \"https://moveek.com/dang-chieu/\"\n",
        "\n",
        "# Gửi request và lấy nội dung HTML\n",
        "response = requests.get(url)\n",
        "response.encoding = \"utf-8\"\n",
        "\n",
        "# Kiểm tra kết nối\n",
        "if response.status_code != 200:\n",
        "    print(\"❌ Lỗi khi truy cập trang web:\", response.status_code)\n",
        "else:\n",
        "    print(\"✅ Truy cập thành công!\")\n",
        "\n",
        "# Phân tích HTML\n",
        "soup = BeautifulSoup(response.text, \"lxml\")\n",
        "\n",
        "# Mỗi phim nằm trong thẻ <div class=\"col-lg-2 ... item\">\n",
        "movies = soup.find_all(\"div\", class_=\"item\")\n",
        "\n",
        "# Giới hạn số lượng phim để hiển thị (ví dụ: 10 phim đầu tiên)\n",
        "print(f\"🎬 Có tất cả {len(movies)} phim đang chiếu (hiển thị 10 phim đầu):\\n\")\n",
        "\n",
        "for i, movie in enumerate(movies[:10], 1):\n",
        "    # Lấy tiêu đề phim\n",
        "    title_tag = movie.find(\"h3\").find(\"a\") if movie.find(\"h3\") else None\n",
        "    title = title_tag.get_text(strip=True) if title_tag else \"Không rõ tên\"\n",
        "\n",
        "    # Link chi tiết phim\n",
        "    link = \"https://moveek.com\" + title_tag[\"href\"] if title_tag and title_tag.has_attr(\"href\") else \"Không có link\"\n",
        "\n",
        "    # Ngày khởi chiếu (nằm trong <div class=\"col text-muted\">)\n",
        "    date_tag = movie.find(\"div\", class_=\"col text-muted\")\n",
        "    release_date = date_tag.get_text(strip=True) if date_tag else \"Không rõ ngày chiếu\"\n",
        "\n",
        "    # Tỷ lệ đánh giá (nằm trong <a> có icon thumbs-up)\n",
        "    rating_tag = movie.find(\"a\", class_=\"text-success\") or movie.find(\"a\", class_=\"text-muted\")\n",
        "    rating = rating_tag.get_text(strip=True) if rating_tag else \"Chưa có đánh giá\"\n",
        "\n",
        "    # Hiển thị kết quả\n",
        "    print(f\"{i}. 🎥 {title}\")\n",
        "    print(f\"   📅 Ngày chiếu: {release_date}\")\n",
        "    print(f\"   ⭐ Đánh giá: {rating}\")\n",
        "    print(f\"   🔗 Link: {link}\\n\")"
      ],
      "metadata": {
        "colab": {
          "base_uri": "https://localhost:8080/"
        },
        "id": "SZoKATmRRRTA",
        "outputId": "214d39f0-e7df-41e9-995b-14c01f3eeea0"
      },
      "execution_count": 23,
      "outputs": [
        {
          "output_type": "stream",
          "name": "stdout",
          "text": [
            "✅ Truy cập thành công!\n",
            "🎬 Có tất cả 22 phim đang chiếu (hiển thị 10 phim đầu):\n",
            "\n",
            "1. 🎥 Cục Vàng Của Ngoại\n",
            "   📅 Ngày chiếu: 17/10\n",
            "   ⭐ Đánh giá: Chưa có đánh giá\n",
            "   🔗 Link: https://moveek.com/lich-chieu/cuc-vang-cua-ngoai/\n",
            "\n",
            "2. 🎥 Tee Yod 3: Quỷ Ăn Tạng\n",
            "   📅 Ngày chiếu: 10/10\n",
            "   ⭐ Đánh giá: 66%\n",
            "   🔗 Link: https://moveek.com/lich-chieu/tee-yod-3-quy-an-tang/\n",
            "\n",
            "3. 🎥 Năm Của Anh, Ngày Của Em\n",
            "   📅 Ngày chiếu: 17/10\n",
            "   ⭐ Đánh giá: Chưa có đánh giá\n",
            "   🔗 Link: https://moveek.com/lich-chieu/nam-cua-anh-ngay-cua-em/\n",
            "\n",
            "4. 🎥 Tử Chiến Trên Không\n",
            "   📅 Ngày chiếu: 19/09\n",
            "   ⭐ Đánh giá: 97%\n",
            "   🔗 Link: https://moveek.com/lich-chieu/tu-chien-tren-khong/\n",
            "\n",
            "5. 🎥 Trò Chơi Ảo Giác: Ares\n",
            "   📅 Ngày chiếu: 10/10\n",
            "   ⭐ Đánh giá: Chưa có đánh giá\n",
            "   🔗 Link: https://moveek.com/lich-chieu/tron-ares/\n",
            "\n",
            "6. 🎥 Chị Ngã Em Nâng\n",
            "   📅 Ngày chiếu: 03/10\n",
            "   ⭐ Đánh giá: 88%\n",
            "   🔗 Link: https://moveek.com/lich-chieu/chi-nga-em-nang/\n",
            "\n",
            "7. 🎥 Chú Thuật Hồi Chiến: Hoài Ngọc / Ngọc Chiết – The Movie\n",
            "   📅 Ngày chiếu: 10/10\n",
            "   ⭐ Đánh giá: Chưa có đánh giá\n",
            "   🔗 Link: https://moveek.com/lich-chieu/jujutsu-kaisen-hidden-inventory-premature-death-the-movie/\n",
            "\n",
            "8. 🎥 Cậu Bé Cá Heo và Bí Mật 7 Đại Dương\n",
            "   📅 Ngày chiếu: 03/10\n",
            "   ⭐ Đánh giá: Chưa có đánh giá\n",
            "   🔗 Link: https://moveek.com/lich-chieu/cau-be-ca-heo-va-bi-mat-7-dai-duong/\n",
            "\n",
            "9. 🎥 Những Lá Thư Của Yeon\n",
            "   📅 Ngày chiếu: 10/10\n",
            "   ⭐ Đánh giá: Chưa có đánh giá\n",
            "   🔗 Link: https://moveek.com/lich-chieu/nhung-la-thu-cua-yeon/\n",
            "\n",
            "10. 🎥 Hành Trình Rực Rỡ Ta Đã Yêu\n",
            "   📅 Ngày chiếu: 10/10\n",
            "   ⭐ Đánh giá: Chưa có đánh giá\n",
            "   🔗 Link: https://moveek.com/lich-chieu/hanh-trinh-ruc-ro-ta-da-yeu/\n",
            "\n"
          ]
        }
      ]
    },
    {
      "cell_type": "code",
      "source": [
        "import pandas as pd\n",
        "\n",
        "data = []\n",
        "for movie in movies:\n",
        "    title_tag = movie.find(\"h3\").find(\"a\") if movie.find(\"h3\") else None\n",
        "    title = title_tag.get_text(strip=True) if title_tag else \"Không rõ tên\"\n",
        "    link = \"https://moveek.com\" + title_tag[\"href\"] if title_tag and title_tag.has_attr(\"href\") else \"Không có link\"\n",
        "    date_tag = movie.find(\"div\", class_=\"col text-muted\")\n",
        "    release_date = date_tag.get_text(strip=True) if date_tag else \"Không rõ ngày chiếu\"\n",
        "    rating_tag = movie.find(\"a\", class_=\"text-success\") or movie.find(\"a\", class_=\"text-muted\")\n",
        "    rating = rating_tag.get_text(strip=True) if rating_tag else \"Chưa có đánh giá\"\n",
        "\n",
        "    data.append([title, release_date, rating, link])\n",
        "\n",
        "df = pd.DataFrame(data, columns=[\"Tên phim\", \"Ngày chiếu\", \"Đánh giá\", \"Liên kết\"])\n",
        "df.to_csv(\"moveek_movies.csv\", index=False, encoding=\"utf-8-sig\")\n",
        "print(\"📁 Đã lưu kết quả vào moveek_movies.csv\")"
      ],
      "metadata": {
        "colab": {
          "base_uri": "https://localhost:8080/"
        },
        "id": "DLbIGEPlSZv3",
        "outputId": "b1a5cec0-06ca-4cd2-86c0-cdc9de95fe7c"
      },
      "execution_count": 24,
      "outputs": [
        {
          "output_type": "stream",
          "name": "stdout",
          "text": [
            "📁 Đã lưu kết quả vào moveek_movies.csv\n"
          ]
        }
      ]
    }
  ]
}